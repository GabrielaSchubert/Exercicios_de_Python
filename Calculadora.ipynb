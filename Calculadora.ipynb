{
  "cells": [
    {
      "cell_type": "markdown",
      "metadata": {
        "id": "U5h6HyMKcgCF"
      },
      "source": [
        "Desenvolver um programa em Python para converter números de uma base numérica para outra. Para começar, você deve escolher a base de entrada e a base de saída para a conversão. Em seguida, digite o número a ser convertido na base de entrada escolhida. O programa deve validar se o número está em\n",
        "conformidade com a base escolhida e, caso contrário, deve exibir uma\n",
        "mensagem de erro.\n",
        "Caso o número esteja válido, o programa deve converter o número para a base\n",
        "de saída escolhida e exibir o resultado na tela informando a base em que\n",
        "o número foi convertido."
      ]
    },
    {
      "cell_type": "code",
      "execution_count": null,
      "metadata": {
        "colab": {
          "base_uri": "https://localhost:8080/"
        },
        "id": "F-e-7ZsxW0zg",
        "outputId": "8853982c-fedc-4153-fca7-babf4de6a063"
      },
      "outputs": [
        {
          "name": "stdout",
          "output_type": "stream",
          "text": [
            "digite a base de entrada: 10\n",
            "digite a base de saída: 16\n",
            "digite o número a ser convertido: 10\n",
            "O número 10 na base 10 é A na base 16.\n"
          ]
        }
      ],
      "source": [
        "def validar_numero(numero, base):\n",
        "    digitos = \"0123456789ABCDEF\"\n",
        "    for digito in numero:\n",
        "       if digito not in digitos[:base]:\n",
        "          return False\n",
        "    return True\n",
        "def converter_base(numero, base_entrada, base_saida):\n",
        "    decimal = int(numero, base_entrada)\n",
        "    resultado = \"\"\n",
        "    digitos = \"0123456789ABCDEF\"\n",
        "    while decimal > 0:\n",
        "        resto = decimal % base_saida\n",
        "        resultado = digitos[resto] + resultado\n",
        "        decimal = decimal // base_saida\n",
        "    return resultado if resultado else \"0\"\n",
        "base_entrada = int(input(\"digite a base de entrada: \"))\n",
        "base_saida = int(input(\"digite a base de saída: \"))\n",
        "numero = input(\"digite o número a ser convertido: \")\n",
        "if validar_numero(numero, base_entrada):\n",
        "    resultado = converter_base(numero, base_entrada, base_saida)\n",
        "    print(f\"O número {numero} na base {base_entrada} é {resultado} na base {base_saida}\")\n",
        "else:\n",
        "    print(\"ERRO: o número é inválido de acordo com a base de entrada escolhida\")"
      ]
    }
  ],
  "metadata": {
    "colab": {
      "provenance": []
    },
    "kernelspec": {
      "display_name": "Python 3",
      "name": "python3"
    },
    "language_info": {
      "name": "python"
    }
  },
  "nbformat": 4,
  "nbformat_minor": 0
}
